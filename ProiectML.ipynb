{
  "nbformat": 4,
  "nbformat_minor": 0,
  "metadata": {
    "colab": {
      "provenance": []
    },
    "kernelspec": {
      "name": "python3",
      "display_name": "Python 3"
    },
    "language_info": {
      "name": "python"
    }
  },
  "cells": [
    {
      "cell_type": "code",
      "execution_count": null,
      "metadata": {
        "id": "xSUQtjw5fJGq"
      },
      "outputs": [],
      "source": [
        "import numpy as np\n",
        "import pandas as pd \n",
        "from sklearn.naive_bayes import GaussianNB\n",
        "from sklearn.tree import DecisionTreeClassifier"
      ]
    },
    {
      "cell_type": "code",
      "source": [
        "train = pd.read_csv(\"train_motion.csv\")\n",
        "used_columns = ['AccX', 'AccY', 'AccZ', 'GyroX', 'GyroY', 'GyroZ']\n",
        "x_train = train[used_columns].dropna()\n",
        "y_train = train['Class']\n",
        "test = pd.read_csv(\"Test.csv\")\n",
        "x_test = test[used_columns].dropna()"
      ],
      "metadata": {
        "id": "gugKxg96fQE6"
      },
      "execution_count": null,
      "outputs": []
    },
    {
      "cell_type": "code",
      "source": [
        "dec_tree_pred = DecisionTreeClassifier().fit(x_train, y_train).predict(x_test)\n",
        "naive_bayes_pred = GaussianNB().fit(x_train, y_train).predict(x_test)"
      ],
      "metadata": {
        "id": "2HmAfBjvgrhx"
      },
      "execution_count": null,
      "outputs": []
    },
    {
      "cell_type": "code",
      "source": [
        "Predictions= pd.DataFrame(dec_tree_pred, columns=['Class'])\n",
        "Predictions.index.name='ID'\n",
        "Predictions.index += 1\n",
        "Final_predictions= Predictions.to_csv(\n",
        "    'Predictions1.csv', header= 'Class', index='true')\n",
        "\n",
        "Predictions= pd.DataFrame(naive_bayes_pred, columns=['Class'])\n",
        "Final_predictions= Predictions.to_csv(\n",
        "    'Predictions2.csv', header= 'Class', index='true')"
      ],
      "metadata": {
        "id": "LPAxymhchRbr"
      },
      "execution_count": 8,
      "outputs": []
    }
  ]
}